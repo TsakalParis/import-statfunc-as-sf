{
 "cells": [
  {
   "cell_type": "code",
   "execution_count": 7,
   "id": "74f7a55f",
   "metadata": {},
   "outputs": [],
   "source": [
    "import pandas as pd\n",
    "import numpy as np"
   ]
  },
  {
   "cell_type": "markdown",
   "id": "d2284afa",
   "metadata": {},
   "source": [
    "### Take as input a dataframe and plot important correlations on a heatmap"
   ]
  },
  {
   "cell_type": "code",
   "execution_count": 1,
   "id": "daf68a57",
   "metadata": {},
   "outputs": [],
   "source": [
    "# Calculate correlation and p value and return pvalue dataframe\n",
    "def calculate_pvalues(df):  \n",
    "    from scipy.stats import pearsonr\n",
    "    dfcols = pd.DataFrame(columns=df.columns)\n",
    "    pvalues = dfcols.transpose().join(dfcols, how='outer')\n",
    "    for r in df.columns:\n",
    "        for c in df.columns:\n",
    "            tmp = df[df[r].notnull() & df[c].notnull()]\n",
    "            pvalues[r][c] = round(pearsonr(tmp[r], tmp[c])[1], 4)\n",
    "    return pvalues"
   ]
  },
  {
   "cell_type": "code",
   "execution_count": 2,
   "id": "65fd0d84",
   "metadata": {},
   "outputs": [],
   "source": [
    "# Filter dataframe based on value and condition(\"<\", \"=\", \">\")\n",
    "def value_to_NaN(df, value, op):\n",
    "    filtered_values = df\n",
    "    if op == \">\":\n",
    "        for col in filtered_values.columns:\n",
    "            filtered_values.loc[filtered_values[col].astype(float) > value, col] = \"NaN\"\n",
    "    elif op == \"=\":\n",
    "        for col in filtered_values.columns:\n",
    "            filtered_values.loc[filtered_values[col].astype(float) == value, col] = \"NaN\"\n",
    "    elif op == \"<\":\n",
    "        for col in filtered_values.columns:\n",
    "            filtered_values.loc[filtered_values[col].astype(float) < value, col] = \"NaN\"\n",
    "    else:\n",
    "        filtered_values = \"opperation is not supported\"\n",
    "    return filtered_values"
   ]
  },
  {
   "cell_type": "code",
   "execution_count": 3,
   "id": "87fcb663",
   "metadata": {},
   "outputs": [],
   "source": [
    "# Change values in dataframe to NaN based on pvalue\n",
    "def filter_with_p (df, p):\n",
    "    new_df = df\n",
    "    for col in df.columns:\n",
    "        for index in df.index:\n",
    "            if p.loc[col, index] == \"NaN\":\n",
    "                new_df.loc[col, index] = \"NaN\"\n",
    "    return new_df"
   ]
  },
  {
   "cell_type": "code",
   "execution_count": 4,
   "id": "111533cd",
   "metadata": {},
   "outputs": [],
   "source": [
    "# Plot heatmap of correlation dataframe\n",
    "def ut_heatmap_plot(corr_df, y=15, x=10):\n",
    "    plt.figure(figsize=(y, x))\n",
    "    corr_df = corr_df.astype(float)\n",
    "    mask = np.triu(np.ones_like(corr_df))\n",
    "    dataplot = sns.heatmap(corr_df, cmap=\"YlGnBu\", annot=True, mask=mask)\n",
    "    return plt.show()"
   ]
  },
  {
   "cell_type": "code",
   "execution_count": null,
   "id": "f79dbf79",
   "metadata": {},
   "outputs": [],
   "source": [
    "# All in one example\n",
    "def final_heatmap(df):\n",
    "    return ut_heatmap_plot(filter_with_p(df.corr(method = 'pearson', min_periods = 1).round(2),\n",
    "                                         value_to_NaN(calculate_pvalues(df), 0.05, \">\")))"
   ]
  },
  {
   "cell_type": "markdown",
   "id": "6b1522fe",
   "metadata": {},
   "source": [
    "### For google adds dataframe, group and sum, without losing percentage values"
   ]
  },
  {
   "cell_type": "code",
   "execution_count": 6,
   "id": "fb3b7630",
   "metadata": {},
   "outputs": [],
   "source": [
    "def add_group_ads(df):\n",
    "    new_df = pd.DataFrame\n",
    "    new_df = df.groupby(['AdGroup']).sum()\n",
    "    new_df[\"CTR\"] = new_df['Clicks'] / new_df['Impressions']\n",
    "    new_df[\"Cost_per_Conversion\"] = new_df['Cost'] / new_df['Conversions']\n",
    "    new_df[\"Conversion_rates\"] = new_df['Conversions'] / new_df['Clicks']\n",
    "    new_df[\"Avg_CPC\"] = new_df['Cost'] / new_df['Clicks']\n",
    "    new_df['Avg. position'] = new_df['Avg. position'] / new_df['Counter']\n",
    "    new_df[\"cost_per_conversion_value\"] = new_df['Cost'] / new_df['Total conv. value']\n",
    "    new_df.replace([np.inf, -np.inf], 0, inplace=True)\n",
    "    return new_df"
   ]
  },
  {
   "cell_type": "markdown",
   "id": "ce7b48d4",
   "metadata": {},
   "source": [
    "### Get dataframe, row , columns, title, xlabel, figsize and Plot bar plot"
   ]
  },
  {
   "cell_type": "code",
   "execution_count": 9,
   "id": "662cb132",
   "metadata": {},
   "outputs": [],
   "source": [
    "def bar_plot(df, row, col, title, xlabel, y=12, x=8):\n",
    "    add_group_ads(df).loc[row, col].plot(kind=\"bar\", figsize=(y, x))       \n",
    "    plt.xticks(rotation=30, horizontalalignment=\"center\")\n",
    "    plt.title(title)\n",
    "    plt.xlabel(xlabel)\n",
    "    plt.ylabel(\"Values\")    \n",
    "    return \n",
    "\n",
    "#row and col can be list of str values since we are using loc"
   ]
  },
  {
   "cell_type": "markdown",
   "id": "8c223fdd",
   "metadata": {},
   "source": [
    "### Confidence interval for correlation"
   ]
  },
  {
   "cell_type": "code",
   "execution_count": null,
   "id": "109e679d",
   "metadata": {},
   "outputs": [],
   "source": [
    "# Find standar error and t,z\n",
    "def se_z(df, alpha=0.05):  \n",
    "    se = 1/np.sqrt(len(df.index)-3)\n",
    "    z = stats.norm.ppf(1-alpha/2)\n",
    "    return se, z\n",
    "# Find low and high\n",
    "def conf_inter(r, se, z):\n",
    "    r_z = np.arctanh(r) \n",
    "    lo_z, hi_z = r_z-z*se, r_z+z*se\n",
    "    lo, hi = np.tanh((lo_z, hi_z))\n",
    "    lo = round(lo, 4)\n",
    "    hi = round(hi, 4)\n",
    "    lo_and_hi = \"({in1}, {in2})\".format(in1=str(lo), in2=str(hi))\n",
    "    return lo_and_hi\n",
    "# return confidence interval dataframe\n",
    "def ci_df(df, se, z):\n",
    "    se = se\n",
    "    z = z\n",
    "    ci = df.copy()\n",
    "    for r in df.columns:\n",
    "        for c in df.columns:\n",
    "            tmp = df[df[r].notnull() & df[c].notnull()]\n",
    "            ci_value = conf_inter(tmp[r][c], se, z)\n",
    "            ci[r][c] = ci_value\n",
    "    return ci \n",
    "\n",
    "#-----------final example all in one---------------\n",
    "def corr_ci_df(df, alpha=0.05, iloc_col_range):\n",
    "    se, z = se_z(df, alpha)\n",
    "\n",
    "    corr_ci_df = ci_df(df.corr(), se, z)\n",
    "\n",
    "    return corr_ci_df.iloc[:, iloc_col_range].to_frame()"
   ]
  },
  {
   "cell_type": "markdown",
   "id": "ef7d65ae",
   "metadata": {},
   "source": [
    "### Group columns in new dataframe based on str value and return the new dataframe plus the number of columns added"
   ]
  },
  {
   "cell_type": "code",
   "execution_count": 10,
   "id": "8ca518ac",
   "metadata": {},
   "outputs": [],
   "source": [
    "def survey_grouping(df,col_arg):\n",
    "    new_df = pd.DataFrame()\n",
    "    k = 0\n",
    "    for i in df.columns:\n",
    "        if col_arg in i:\n",
    "            new_df[i] = df[i]\n",
    "            k+=1\n",
    "    return new_df, k"
   ]
  },
  {
   "cell_type": "markdown",
   "id": "3d01293e",
   "metadata": {},
   "source": [
    "### Add columns in dataframe (dataframe, column_values, desired_column_name) and returns dataframe "
   ]
  },
  {
   "cell_type": "code",
   "execution_count": 11,
   "id": "91565fc4",
   "metadata": {},
   "outputs": [],
   "source": [
    "def add_col(df, columns, col_names):\n",
    "    i = 0\n",
    "    for col in columns:\n",
    "        df[col_names[i]] = col\n",
    "        i+=1\n",
    "    return df"
   ]
  },
  {
   "cell_type": "markdown",
   "id": "bc923f22",
   "metadata": {},
   "source": [
    "### Find IQR in dataframe"
   ]
  },
  {
   "cell_type": "code",
   "execution_count": 12,
   "id": "792cf3fb",
   "metadata": {},
   "outputs": [],
   "source": [
    "def find_iqr(df, x):\n",
    "    return df.aply(np.subtract(*np.percentile(x, [75, 25])))"
   ]
  },
  {
   "cell_type": "code",
   "execution_count": null,
   "id": "db739213",
   "metadata": {},
   "outputs": [],
   "source": []
  }
 ],
 "metadata": {
  "kernelspec": {
   "display_name": "Python 3 (ipykernel)",
   "language": "python",
   "name": "python3"
  },
  "language_info": {
   "codemirror_mode": {
    "name": "ipython",
    "version": 3
   },
   "file_extension": ".py",
   "mimetype": "text/x-python",
   "name": "python",
   "nbconvert_exporter": "python",
   "pygments_lexer": "ipython3",
   "version": "3.9.13"
  }
 },
 "nbformat": 4,
 "nbformat_minor": 5
}
